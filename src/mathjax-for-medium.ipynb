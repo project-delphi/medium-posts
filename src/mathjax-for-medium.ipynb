{
 "cells": [
  {
   "cell_type": "markdown",
   "metadata": {},
   "source": []
  },
  {
   "cell_type": "markdown",
   "metadata": {},
   "source": [
    "$$ \\nabla =  \\frac{\\partial}{\\partial x} $$"
   ]
  },
  {
   "cell_type": "markdown",
   "metadata": {},
   "source": [
    "$$ \\nabla =  \\left[ \\frac{\\partial}{\\partial x}, \\frac{\\partial}{\\partial y}  \\right]$$"
   ]
  },
  {
   "cell_type": "markdown",
   "metadata": {},
   "source": [
    "$$ \\nabla =  \\left[ \\frac{\\partial}{\\partial x}, \\frac{\\partial}{\\partial y}, \\frac{\\partial}{\\partial z} \\right]$$"
   ]
  },
  {
   "cell_type": "markdown",
   "metadata": {},
   "source": [
    "$$ \\nabla =  \\left[ \\frac{\\partial}{\\partial x_{1}}, \\frac{\\partial}{\\partial x_{2}}, \\ldots , \\frac{\\partial}{\\partial x_{n}} \\right]$$"
   ]
  },
  {
   "cell_type": "markdown",
   "metadata": {},
   "source": [
    "$$ \\nabla f =  \\left[ \\frac{\\partial f}{\\partial x_{1}}, \\frac{\\partial f}{\\partial x_{2}}, \\ldots , \\frac{\\partial f}{\\partial x_{n}} \\right]$$"
   ]
  },
  {
   "cell_type": "markdown",
   "metadata": {},
   "source": [
    "$$\n",
    "\\mathbf{J}\n",
    "=\n",
    "\\frac{d \\mathbf{f}}{d \\mathbf{x}}\n",
    "=\n",
    "\\left[ \\frac{\\partial \\mathbf{f}}{\\partial x_1}\n",
    "\\cdots \\frac{\\partial \\mathbf{f}}{\\partial x_n} \\right]\n",
    "=\n",
    "\\begin{bmatrix}\n",
    "\\frac{\\partial f_1}{\\partial x_1} & \\cdots &\n",
    "\\frac{\\partial f_1}{\\partial x_n} \\\\\n",
    "\\vdots & \\ddots & \\vdots \\\\\n",
    "\\frac{\\partial f_m}{\\partial x_1} & \\cdots &\n",
    "\\frac{\\partial f_m}{\\partial x_n}\n",
    "\\end{bmatrix}\n",
    "$$"
   ]
  },
  {
   "cell_type": "markdown",
   "metadata": {},
   "source": [
    "$$ \\mathbf{J}_{f} = f \\nabla^{T} = \\nabla f$$ "
   ]
  },
  {
   "cell_type": "markdown",
   "metadata": {},
   "source": [
    "$$\n",
    "\\mathbf{H_{F}}\n",
    "=\n",
    "\\nabla \\mathbf{J}\n",
    "= \\nabla \\mathbf{F} \\nabla^T\n",
    "=\n",
    "\\frac{d^2 \\mathbf{F}}{d \\mathbf{x}^2}\n",
    "=\n",
    "\\begin{bmatrix}\n",
    "\\frac{\\partial^2 f_1}{\\partial {x_1}^2} & \\cdots &\n",
    "\\frac{\\partial^2 f_1}{\\partial x_n^2} \\\\\n",
    "\\vdots & \\ddots & \\vdots \\\\\n",
    "\\frac{\\partial^2 f_m}{\\partial {x_1}^2} & \\cdots &\n",
    "\\frac{\\partial^2 f_m}{\\partial {x_n}^2}\n",
    "\\end{bmatrix}\n",
    "$$"
   ]
  },
  {
   "cell_type": "markdown",
   "metadata": {},
   "source": [
    "$$ f(x) = \\sum_{k=0}^{\\infty} \\frac{(x-a)^k}{k!} \\frac{\\partial^k f}{{\\partial x}^k}_{\\rvert @x=a} \n",
    "\\approx f(a) + f'(a)(x-a) + \\frac{f''(a)(x-a)^2}{2}\n",
    "$$"
   ]
  },
  {
   "cell_type": "markdown",
   "metadata": {},
   "source": [
    "$$\\mathbf{F(x)} \\approx \\\\  \n",
    "\\mathbf{F(a)} + (\\mathbf{x-a}){\\mathbf{F(x)}\\nabla^T}_{\\rvert x=a} + \\frac{(\\mathbf{x-a})^2}{2}{\\nabla \\mathbf{F(x)}\\nabla^T}_{\\rvert x=a} \\\\\n",
    "= \\mathbf{F(a)} + \\mathbf{J(a)}(\\mathbf{x-a}) + \\mathbf{H(a)}\\frac{(\\mathbf{x-a})^2}{2}$$"
   ]
  },
  {
   "cell_type": "markdown",
   "metadata": {},
   "source": [
    "$$\n",
    "\\mathbf{F(x)} \\approx \\mathbf{F(a)} + (\\mathbf{x-a}){\\mathbf{F(x)}\\nabla^T}_{\\rvert x=a}\n",
    "$$"
   ]
  },
  {
   "cell_type": "markdown",
   "metadata": {},
   "source": [
    "$$ \\mathbf{@ x=s_{k+1}, a = s_{k}}\n",
    "\\\\\n",
    "\\implies\n",
    "\\mathbf{F(s_{k+1})}\\approx \\mathbf{F(s_{k})} + (\\mathbf{s_{k+1}-s_{k}}){\\mathbf{F(s_{k})}\\nabla^T}$$"
   ]
  },
  {
   "cell_type": "markdown",
   "metadata": {},
   "source": [
    "$$\n",
    "\\mathbf{s_{k+1} : F(s_{k+1}}) \\approx \\mathbf{0} \n",
    "\\\\\n",
    "\\implies \\mathbf{0} \\approx \\mathbf{F(s_{k})} + (\\mathbf{s_{k+1}-s_{k}}){\\mathbf{F(s_{k})}\\nabla^T}\n",
    "\\\\\n",
    "\\implies\n",
    "\\mathbf{s_{k+1}} = \\mathbf{s_{k}} - \\frac{\\mathbf{F(s_{k})}}{\\mathbf{F(s_{k})}\\nabla^T} =  = \\mathbf{s_{k}} - \\mathbf{\\frac{F(s_{k})}{J(s_{k})}}\n",
    "$$"
   ]
  },
  {
   "cell_type": "markdown",
   "metadata": {},
   "source": [
    "$$\\mathbf{F(x)} \\approx \n",
    "\\mathbf{F(a)} + (\\mathbf{x-a}){\\mathbf{F(x)}\\nabla^T}_{\\rvert x=a} + \\frac{(\\mathbf{x-a})^2}{2}{\\nabla \\mathbf{F(x)}\\nabla^T}_{\\rvert x=a}$$\n"
   ]
  },
  {
   "cell_type": "markdown",
   "metadata": {},
   "source": [
    "$$\\mathbf{F(s_{k+1})} \\approx \n",
    "\\mathbf{F(s_{k})} + (\\mathbf{s_{k+1}-s_{k}}){\\mathbf{F(s_{k})}\\nabla^T} + \\frac{(\\mathbf{s_{k+1}-s_{k}})^2}{2}{\\nabla \\mathbf{F(s_{k})}\\nabla^T}\n",
    "$$\n"
   ]
  },
  {
   "cell_type": "markdown",
   "metadata": {},
   "source": [
    "$$\\mathbf{F(s_{k+1})} \\approx \n",
    "\\mathbf{F(s_{k})} + \\frac{(\\mathbf{s_{k+1}-s_{k}})^2}{2}{\\nabla \\mathbf{F(s_{k})}\\nabla^T}\n",
    "$$\n"
   ]
  },
  {
   "cell_type": "markdown",
   "metadata": {},
   "source": [
    "$$ \\frac{\\mathbf{F(s_{k+1})} - \\mathbf{F(s_{k})}} { (\\mathbf{s_{k+1}-s_{k}})}\\approx \n",
    " \\frac{(\\mathbf{s_{k+1}-s_{k}})}{2}{\\nabla \\mathbf{F(s_{k})}\\nabla^T}\n",
    "$$\n"
   ]
  },
  {
   "cell_type": "markdown",
   "metadata": {},
   "source": [
    "$$\n",
    "\\mathbf{F(s_{k})}\\nabla^T \\approx \\frac{(\\mathbf{s_{k+1}-s_{k}})}{2}{\\nabla \\mathbf{F(s_{k})}\\nabla^T}\n",
    "$$"
   ]
  },
  {
   "cell_type": "markdown",
   "metadata": {},
   "source": [
    "$$\n",
    "\\mathbf{s_{k+1}} = \\mathbf{s_{k}} - \\frac{\\mathbf{F(s_{k})}\\nabla^T}{{2\\nabla \\mathbf{F(s_{k})}\\nabla^T}}  =  \\mathbf{s_{k} - \\frac{J(s_{k})}{2H(s_{k})}}\n",
    "$$"
   ]
  },
  {
   "cell_type": "markdown",
   "metadata": {},
   "source": [
    "$$\n",
    "\\mathbf{s_{k+1}}=  \\mathbf{s_{k} - \\frac{J(s_{k})}{2H(s_{k})}} = \\mathbf{s_{k} - \\frac{J(s_{k})}{2H(s_{k})}}\n",
    "$$\n"
   ]
  },
  {
   "cell_type": "markdown",
   "metadata": {},
   "source": [
    "$$\n",
    "\\mathbf{s_{k+1}}=  \\mathbf{s_{k}} - \\gamma_{k} \\mathbf{J(s_{k})}\n",
    "$$\n"
   ]
  },
  {
   "cell_type": "markdown",
   "metadata": {},
   "source": [
    "$$\n",
    "\\mathbf{s_{k+1}} = D(\\mathbf{s_{k}}, \\mathbf{J(s_{k})}, \\gamma_{k}) \n",
    "$$"
   ]
  },
  {
   "cell_type": "markdown",
   "metadata": {},
   "source": [
    "$$\n",
    "\\mathbf{s_{k}} \\mapsto \\mathbf{s_{k+1}}\n",
    "$$"
   ]
  },
  {
   "cell_type": "markdown",
   "metadata": {},
   "source": [
    "$$\n",
    "\\mathbf{s_{k+1}}=  \\mathbf{s_{k} + p}\n",
    "$$"
   ]
  },
  {
   "cell_type": "markdown",
   "metadata": {},
   "source": [
    "$$\n",
    "\\mathbf{F(s_{k} + p)} \\approx \\mathbf{F(s_{k})} + \\mathbf{p} \\cdot \\mathbf{J(s_{k})}\n",
    "$$"
   ]
  },
  {
   "cell_type": "markdown",
   "metadata": {},
   "source": [
    "$$\n",
    "\\mathbf{p} = - \\mathbf{J(s_{k})}\n",
    "$$"
   ]
  },
  {
   "cell_type": "code",
   "execution_count": null,
   "metadata": {},
   "outputs": [],
   "source": []
  }
 ],
 "metadata": {
  "kernelspec": {
   "display_name": "Python 3",
   "language": "python",
   "name": "python3"
  },
  "language_info": {
   "codemirror_mode": {
    "name": "ipython",
    "version": 3
   },
   "file_extension": ".py",
   "mimetype": "text/x-python",
   "name": "python",
   "nbconvert_exporter": "python",
   "pygments_lexer": "ipython3",
   "version": "3.7.1"
  }
 },
 "nbformat": 4,
 "nbformat_minor": 2
}
